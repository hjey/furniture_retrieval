{
 "cells": [
  {
   "cell_type": "markdown",
   "metadata": {},
   "source": [
    "## Feature shape check From DB"
   ]
  },
  {
   "cell_type": "code",
   "execution_count": 2,
   "metadata": {},
   "outputs": [
    {
     "name": "stdout",
     "output_type": "stream",
     "text": [
      "Shape of features: (384,)\n"
     ]
    }
   ],
   "source": [
    "import sqlite3\n",
    "import numpy as np\n",
    "import json\n",
    "\n",
    "db_path = \"/home/work/ModuInterior/dataset/bonn-custom/houzz/hvt_db/furniture_database.sqlite3\" \n",
    "# SQLite DB 연결\n",
    "conn = sqlite3.connect(db_path)\n",
    "cursor = conn.cursor()\n",
    "\n",
    "# 제품의 features를 가져오는 쿼리 실행\n",
    "cursor.execute(\"SELECT feature FROM feature WHERE feature_id = 5\")\n",
    "result = cursor.fetchone()\n",
    "\n",
    "# features 데이터 확인\n",
    "if result:\n",
    "    features_json = result[0]  # 'features' 컬럼의 값 (JSON 문자열)\n",
    "    features_array = np.array(json.loads(features_json))  # JSON -> NumPy 배열로 변환\n",
    "\n",
    "    # (128, 0) 형태인지 확인\n",
    "    print(\"Shape of features:\", features_array.shape)\n",
    "else:\n",
    "    print(\"No data found.\")\n",
    "\n",
    "# DB 연결 종료\n",
    "conn.close()"
   ]
  },
  {
   "cell_type": "code",
   "execution_count": null,
   "metadata": {},
   "outputs": [],
   "source": []
  }
 ],
 "metadata": {
  "kernelspec": {
   "display_name": "jy2",
   "language": "python",
   "name": "python3"
  },
  "language_info": {
   "codemirror_mode": {
    "name": "ipython",
    "version": 3
   },
   "file_extension": ".py",
   "mimetype": "text/x-python",
   "name": "python",
   "nbconvert_exporter": "python",
   "pygments_lexer": "ipython3",
   "version": "3.10.16"
  }
 },
 "nbformat": 4,
 "nbformat_minor": 2
}
